{
  {
   "cell_type": "code",
   "execution_count": 1,
   "metadata": {
    "_cell_guid": "87c7b371-53b1-4d4d-bfbd-373d2b84b33a",
    "_uuid": "da5343fb3f6b3942909c94bf8e2add04fd3ff1a3"
   },
   "outputs": [],
   "source": [
    "#Importing required packages.\n",
    "import pandas as pd\n",
    "import seaborn as sns\n",
    "import matplotlib.pyplot as plt\n",
    "from sklearn.ensemble import RandomForestClassifier\n",
    "from sklearn.svm import SVC\n",
    "from sklearn.linear_model import SGDClassifier\n",
    "from sklearn.metrics import confusion_matrix, classification_report\n",
    "from sklearn.preprocessing import StandardScaler, LabelEncoder\n",
    "from sklearn.model_selection import train_test_split\n",
    "%matplotlib inline"
   ]
  },
  {
   "cell_type": "code",
   "execution_count": 2,
   "metadata": {
    "_cell_guid": "800f9ff4-79bf-4785-9569-23e1d9b9b03b",
    "_uuid": "07c8409e4eccd80507d9846e8cc70ea42e58cbe6"
   },
   "outputs": [],
   "source": [
    "#Loading dataset\n",
    "wine_data = pd.read_csv('C:/Users/Ashutosh/Documents/Jupyter Exercises/Portfolio Project/Red Wine Quality/winequality-red.csv')"
   ]
  },
  {
   "cell_type": "code",
   "execution_count": 3,
   "metadata": {
    "_cell_guid": "019cbcee-6cb2-478c-922b-ccebe4962769",
    "_uuid": "45ff42953e9082cd55612a4774408cc97a05fb11"
   },
   "outputs": [
    {
     "data": {
      "text/html": [
       "<div>\n",
       "<style scoped>\n",
       "    .dataframe tbody tr th:only-of-type {\n",
       "        vertical-align: middle;\n",
       "    }\n",
       "\n",
       "    .dataframe tbody tr th {\n",
       "        vertical-align: top;\n",
       "    }\n",
       "\n",
       "    .dataframe thead th {\n",
       "        text-align: right;\n",
       "    }\n",
       "</style>\n",
       "<table border=\"1\" class=\"dataframe\">\n",
       "  <thead>\n",
       "    <tr style=\"text-align: right;\">\n",
       "      <th></th>\n",
       "      <th>fixed acidity</th>\n",
       "      <th>volatile acidity</th>\n",
       "      <th>citric acid</th>\n",
       "      <th>residual sugar</th>\n",
       "      <th>chlorides</th>\n",
       "      <th>free sulfur dioxide</th>\n",
       "      <th>total sulfur dioxide</th>\n",
       "      <th>density</th>\n",
       "      <th>pH</th>\n",
       "      <th>sulphates</th>\n",
       "      <th>alcohol</th>\n",
       "      <th>quality</th>\n",
       "    </tr>\n",
       "  </thead>\n",
       "  <tbody>\n",
       "    <tr>\n",
       "      <th>0</th>\n",
       "      <td>7.4</td>\n",
       "      <td>0.70</td>\n",
       "      <td>0.00</td>\n",
       "      <td>1.9</td>\n",
       "      <td>0.076</td>\n",
       "      <td>11.0</td>\n",
       "      <td>34.0</td>\n",
       "      <td>0.9978</td>\n",
       "      <td>3.51</td>\n",
       "      <td>0.56</td>\n",
       "      <td>9.4</td>\n",
       "      <td>5</td>\n",
       "    </tr>\n",
       "    <tr>\n",
       "      <th>1</th>\n",
       "      <td>7.8</td>\n",
       "      <td>0.88</td>\n",
       "      <td>0.00</td>\n",
       "      <td>2.6</td>\n",
       "      <td>0.098</td>\n",
       "      <td>25.0</td>\n",
       "      <td>67.0</td>\n",
       "      <td>0.9968</td>\n",
       "      <td>3.20</td>\n",
       "      <td>0.68</td>\n",
       "      <td>9.8</td>\n",
       "      <td>5</td>\n",
       "    </tr>\n",
       "    <tr>\n",
       "      <th>2</th>\n",
       "      <td>7.8</td>\n",
       "      <td>0.76</td>\n",
       "      <td>0.04</td>\n",
       "      <td>2.3</td>\n",
       "      <td>0.092</td>\n",
       "      <td>15.0</td>\n",
       "      <td>54.0</td>\n",
       "      <td>0.9970</td>\n",
       "      <td>3.26</td>\n",
       "      <td>0.65</td>\n",
       "      <td>9.8</td>\n",
       "      <td>5</td>\n",
       "    </tr>\n",
       "    <tr>\n",
       "      <th>3</th>\n",
       "      <td>11.2</td>\n",
       "      <td>0.28</td>\n",
       "      <td>0.56</td>\n",
       "      <td>1.9</td>\n",
       "      <td>0.075</td>\n",
       "      <td>17.0</td>\n",
       "      <td>60.0</td>\n",
       "      <td>0.9980</td>\n",
       "      <td>3.16</td>\n",
       "      <td>0.58</td>\n",
       "      <td>9.8</td>\n",
       "      <td>6</td>\n",
       "    </tr>\n",
       "    <tr>\n",
       "      <th>4</th>\n",
       "      <td>7.4</td>\n",
       "      <td>0.70</td>\n",
       "      <td>0.00</td>\n",
       "      <td>1.9</td>\n",
       "      <td>0.076</td>\n",
       "      <td>11.0</td>\n",
       "      <td>34.0</td>\n",
       "      <td>0.9978</td>\n",
       "      <td>3.51</td>\n",
       "      <td>0.56</td>\n",
       "      <td>9.4</td>\n",
       "      <td>5</td>\n",
       "    </tr>\n",
       "  </tbody>\n",
       "</table>\n",
       "</div>"
      ],
      "text/plain": [
       "   fixed acidity  volatile acidity  citric acid  residual sugar  chlorides  \\\n",
       "0            7.4              0.70         0.00             1.9      0.076   \n",
       "1            7.8              0.88         0.00             2.6      0.098   \n",
       "2            7.8              0.76         0.04             2.3      0.092   \n",
       "3           11.2              0.28         0.56             1.9      0.075   \n",
       "4            7.4              0.70         0.00             1.9      0.076   \n",
       "\n",
       "   free sulfur dioxide  total sulfur dioxide  density    pH  sulphates  \\\n",
       "0                 11.0                  34.0   0.9978  3.51       0.56   \n",
       "1                 25.0                  67.0   0.9968  3.20       0.68   \n",
       "2                 15.0                  54.0   0.9970  3.26       0.65   \n",
       "3                 17.0                  60.0   0.9980  3.16       0.58   \n",
       "4                 11.0                  34.0   0.9978  3.51       0.56   \n",
       "\n",
       "   alcohol  quality  \n",
       "0      9.4        5  \n",
       "1      9.8        5  \n",
       "2      9.8        5  \n",
       "3      9.8        6  \n",
       "4      9.4        5  "
      ]
     },
     "execution_count": 3,
     "metadata": {},
     "output_type": "execute_result"
    }
   ],
   "source": [
    "#Let's check how the data is distributed\n",
    "wine_data.head()"
   ]
  },
  {
   "cell_type": "code",
   "execution_count": 4,
   "metadata": {
    "_cell_guid": "704f4830-5804-436d-9b78-6ca00f5ae510",
    "_uuid": "af141503385967f92d409c5e111e2724b4c9636f",
    "scrolled": true
   },
   "outputs": [
    {
     "name": "stdout",
     "output_type": "stream",
     "text": [
      "<class 'pandas.core.frame.DataFrame'>\n",
      "RangeIndex: 1599 entries, 0 to 1598\n",
      "Data columns (total 12 columns):\n",
      " #   Column                Non-Null Count  Dtype  \n",
      "---  ------                --------------  -----  \n",
      " 0   fixed acidity         1599 non-null   float64\n",
      " 1   volatile acidity      1599 non-null   float64\n",
      " 2   citric acid           1599 non-null   float64\n",
      " 3   residual sugar        1599 non-null   float64\n",
      " 4   chlorides             1599 non-null   float64\n",
      " 5   free sulfur dioxide   1599 non-null   float64\n",
      " 6   total sulfur dioxide  1599 non-null   float64\n",
      " 7   density               1599 non-null   float64\n",
      " 8   pH                    1599 non-null   float64\n",
      " 9   sulphates             1599 non-null   float64\n",
      " 10  alcohol               1599 non-null   float64\n",
      " 11  quality               1599 non-null   int64  \n",
      "dtypes: float64(11), int64(1)\n",
      "memory usage: 150.0 KB\n"
     ]
    }
   ],
   "source": [
    "#Information about the data columns\n",
    "wine_data.info()"
   ]
  },
  {
   "cell_type": "code",
   "execution_count": 5,
   "metadata": {},
   "outputs": [
    {
     "data": {
      "text/plain": [
       "fixed acidity           0\n",
       "volatile acidity        0\n",
       "citric acid             0\n",
       "residual sugar          0\n",
       "chlorides               0\n",
       "free sulfur dioxide     0\n",
       "total sulfur dioxide    0\n",
       "density                 0\n",
       "pH                      0\n",
       "sulphates               0\n",
       "alcohol                 0\n",
       "quality                 0\n",
       "dtype: int64"
      ]
     },
     "execution_count": 5,
     "metadata": {},
     "output_type": "execute_result"
    }
   ],
   "source": [
    "#Checking missing values\n",
    "wine_data.isnull().sum()"
   ]
  },
  {
   "cell_type": "markdown",
   "metadata": {
    "_cell_guid": "12b9e3c1-006d-4b1d-b01d-02be5a594bbb",
    "_uuid": "e9ad3ce0e67ea7a5178222164d784a974846bc54"
   },
   "source": [
    "## **Let's do some plotting to know how the data columns are distributed in the dataset**"
   ]
  },
  {
   "cell_type": "markdown",
   "metadata": {},
   "source": [
    "### Here we see that fixed acidity does not give any specification to classify the quality."
   ]
  },
  {
   "cell_type": "code",
   "execution_count": 6,
   "metadata": {
    "_cell_guid": "f6a9d2eb-e03c-4c8b-8d7f-c0cb735d9ce9",
    "_uuid": "255e8fd04c90eae23164df043ebf16550ecff8fe"
   },
   "outputs": [
    {
     "data": {
      "text/plain": [
       "<matplotlib.axes._subplots.AxesSubplot at 0x23d58a74748>"
      ]
     },
     "execution_count": 6,
     "metadata": {},
     "output_type": "execute_result"
    },
    {
     "data": {
      "image/png": "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\n",
      "text/plain": [
       "<Figure size 720x432 with 1 Axes>"
      ]
     },
     "metadata": {
      "needs_background": "light"
     },
     "output_type": "display_data"
    }
   ],
   "source": [
    "fig = plt.figure(figsize = (10,6))\n",
    "sns.barplot(x = 'quality', y = 'fixed acidity', data = wine_data)"
   ]
  },
  {
   "cell_type": "markdown",
   "metadata": {},
   "source": [
    "### Here we see that its quite a downing trend in the volatile acidity as we go higher the quality "
   ]
  },
  {
   "cell_type": "code",
   "execution_count": 7,
   "metadata": {
    "_cell_guid": "7d7355dc-9c09-4e5e-8989-87f903197898",
    "_uuid": "158a576b3fb80cc0978c322663bc5060d8977be0"
   },
   "outputs": [
    {
     "data": {
      "text/plain": [
       "<matplotlib.axes._subplots.AxesSubplot at 0x23d5e67ec48>"
      ]
     },
     "execution_count": 7,
     "metadata": {},
     "output_type": "execute_result"
    },
    {
     "data": {
      "image/png": "iVBORw0KGgoAAAANSUhEUgAAAmEAAAFzCAYAAAB2A95GAAAABHNCSVQICAgIfAhkiAAAAAlwSFlzAAALEgAACxIB0t1+/AAAADh0RVh0U29mdHdhcmUAbWF0cGxvdGxpYiB2ZXJzaW9uMy4yLjIsIGh0dHA6Ly9tYXRwbG90bGliLm9yZy+WH4yJAAAY2klEQVR4nO3de7SlZ10f8O+PGWIuTQyaKSNJNNFGbGwBYYhoyqVSNUEkS0SboKBUjXEloLQ6posuLcV2rQ7QWrmYlWK4FCWVmyauSLywuNQIZoKREDF2GiCZSY6ZiAgJaEzy6x9nj54Mc9kT5j3PmX0+n7XO2vu9nL2/s9es5DvPs9/nre4OAACr6xGjAwAArEdKGADAAEoYAMAAShgAwABKGADAAEoYAMAAG0cHOFQnnXRSn3baaaNjAAAc1A033HB3d2/a17EjroSddtpp2b59++gYAAAHVVWf2t8x05EAAAMoYQAAAyhhAAADKGEAAAMoYQAAAyhhAAADKGEAAAMoYQAAAyhhAAADKGEAAAMoYQAAAyhhAAADHHE38D5Sbd26NUtLS9m8eXO2bds2Og4AMJgStkqWlpaya9eu0TEAgDXCdCQAwABKGADAAEoYAMAAShgAwABKGADAAEoYAMAAShgAwABKGADAAEoYAMAAShgAwABKGADAAEoYAMAAShgAwABKGADAAEoYAMAAShgAwABKGADAAEoYAMAAShgAwACTlbCquqKq7qqqj+3neFXVL1XVjqr6aFU9caosAABrzZQjYW9Kcs4Bjp+b5IzZz4VJfnnCLAAAa8pkJay7P5Dk0wc45bwkb+llH0pyYlV91VR5AADWkpHfCTs5ye0rtnfO9n2RqrqwqrZX1fbdu3evSjgAgCmNLGG1j329rxO7+/Lu3tLdWzZt2jRxLACA6Y0sYTuTnLpi+5QkdwzKAgCwqkaWsKuSvHB2leRTkvx1d985MA8AwKrZONULV9XbkjwjyUlVtTPJzyd5ZJJ092VJrknyrCQ7knw+yYumygIAsNZMVsK6+4KDHO8kF0/1/gAAa5kV8wEABlDCAAAGUMIAAAZQwgAABlDCAAAGUMIAAAZQwgAABlDCAAAGUMIAAAZQwgAABlDCAAAGUMIAAAZQwgAABlDCAAAGUMIAAAZQwgAABlDCAAAGUMIAAAZQwgAABlDCAAAGUMIAAAZQwgAABlDCAAAGUMIAAAZQwgAABlDCAAAGUMIAAAZQwgAABtg4OsBUnvQzbxkd4SGOv/tz2ZDktrs/t6ay3fDKF46OAADrkpEwAIABlDAAgAGUMACAAZQwAIABlDAAgAGUMACAAZQwAIABlDAAgAGUMACAAZQwAIABlDAAgAGUMACAAZQwAIABlDAAgAGUMACAAZQwAIABlDAAgAGUMACAAZQwAIABJi1hVXVOVd1SVTuq6tJ9HP/yqrq6qv6kqm6uqhdNmQcAYK2YrIRV1YYkr0tybpIzk1xQVWfuddrFSf60ux+f5BlJXl1VR02VCQBgrZhyJOysJDu6+9buvi/JlUnO2+ucTnJ8VVWSf5Tk00nunzATAMCaMGUJOznJ7Su2d872rfTaJP80yR1Jbkryk9394ISZAADWhClLWO1jX++1/Z1JbkzymCRPSPLaqjrhi16o6sKq2l5V23fv3n34kwIArLIpS9jOJKeu2D4lyyNeK70oybt62Y4kn0jyDXu/UHdf3t1bunvLpk2bJgsMALBapixh1yc5o6pOn33Z/vwkV+11zm1JnpkkVfXoJI9NcuuEmQAA1oSNU71wd99fVZckuTbJhiRXdPfNVXXR7PhlSV6R5E1VdVOWpy9/trvvnioTAMBaMVkJS5LuvibJNXvtu2zF8zuSfMeUGQAA1iIr5gMADKCEAQAMoIQBAAyghAEADKCEAQAMoIQBAAyghAEADKCEAQAMMOlirTDS1q1bs7S0lM2bN2fbtm2j4wDAQyhhLKylpaXs2rVrdAwA2CfTkQAAAyhhAAADKGEAAAMoYQAAAyhhAAADKGEAAAMoYQAAAyhhAAADKGEAAAMoYQAAAyhhAAADKGEAAAMoYQAAAyhhAAADbBwdYL148KjjHvIIAKxvStgqufeM7xgdYXK3/ad/PjrCQ9z/6a9IsjH3f/pTayrbV//cTaMjALAGmI4EABjgoCWsqrZX1cVV9ajVCAQAsB7MMxJ2fpLHJLm+qq6squ+sqpo4FwDAQjtoCevuHd39siRfn+TXklyR5LaqenlVfcXUAQEAFtFc3wmrqscleXWSVyZ5Z5LnJflskvdOFw0AYHEd9OrIqrohyWeS/EqSS7v7b2eHPlxVZ08ZDgBgUc2zRMX3dfetK3dU1end/Ynufu5EuQAAFto805HvmHMfAABz2u9IWFV9Q5JvTPLlVbVyxOuEJEdPHQwAYJEdaDrysUmeneTEJN+9Yv/nkvzYlKEAABbdfktYd/9mkt+sqm/p7j9cxUwAAAvvQNORW7t7W5LnV9UFex/v7pdMmgwAYIEdaDry47PH7asRBABgPTnQdOTVs8c3r14cAID14UDTkVcn6f0d7+7nTJIIAGAdONB05Ktmj89NsjnJW2fbFyT55ISZAAAW3oGmI9+fJFX1iu5+2opDV1fVByZPBgCwwOZZMX9TVX3tno2qOj3JpukiweFx0tEP5tHH3J+Tjn5wdBQA+CLz3DvypUneV1V77h95WpIfnywRHCY//bjPjI4AAPt10BLW3e+pqjOSfMNs1591999OGwsAYLEd6OrIb+vu9+5138gk+bqqSne/a+JsAAAL60AjYU9P8t489L6Re3QSJQwA4GE60NWRPz97fNHqxQEAWB8OenVkVf2XqjpxxfajquoX5nnxqjqnqm6pqh1Vdel+znlGVd1YVTdX1fvnjw4AcOSaZ4mKc7v77y8z6+6/SvKsg/1SVW1I8rok5yY5M8kFVXXmXuecmOT1SZ7T3d+Y5PsOITsAwBFrnhK2oaq+bM9GVR2T5MsOcP4eZyXZ0d23dvd9Sa5Mct5e5zw/ybu6+7Yk6e675osNAHBkm6eEvTXJ71fVj1TVv0nyu0nmuan3yUluX7G9c7Zvpa9P8qiqel9V3VBVL9zXC1XVhVW1vaq27969e463BgBY2+ZZJ2xbVd2U5JlJKskruvvaOV679vVy+3j/J81e+5gkf1hVH+ruP98rw+VJLk+SLVu27Pem4gAAR4p5VsxPd/92kt8+xNfemeTUFdunJLljH+fc3d33Jrl3dk/Kxyf58wBHnK1bt2ZpaSmbN2/Otm3bRscBWNPmuTryKVV1fVXdU1X3VdUDVfXZOV77+iRnVNXpVXVUkvOTXLXXOb+Z5KlVtbGqjk3yzUk+fqh/CGBtWFpayq5du7K0tDQ6CsCaN89I2GuzXKDenmRLkhcm+ScH+6Xuvr+qLklybZINSa7o7pur6qLZ8cu6++NV9Z4kH03yYJI3dPfHHt4fBQDgyDHvdOSOqtrQ3Q8keWNVXTfn712T5Jq99l221/Yrk7xyzrwAAAthnhL2+dl04o1VtS3JnUmOmzYWAMBim6eEvSDL3x27JMlLs/xl+++dMhQwn7Nfc/boCA9x1GeOyiPyiNz+mdvXVLY/ePEfjI4A8EXmWaLiU7Onf5Pk5dPGAQBYH+ZZrBUAgMNMCQMAGGDuElZVvowPAHCYzLNY67dW1Z9mtohqVT2+ql4/eTLgiNPHdh487sH0se4uBnAw81wd+d+TfGdmq913959U1dMmTQUckf7u7L8bHQHgiDHXdGR3377XrgcmyAIAsG7MMxJ2e1V9a5KeLdr6kri/IwDAl2SekbCLklyc5OQkO5M8YbYNAMDDNM9irXcn+YFVyAIAsG7st4RV1WuS7PcSp+5+ySSJAADWgQONhG1ftRQAAOvMfktYd795NYMAAKwnB5qO/MXu/qmqujr7mJbs7udMmgwAYIEdaDryf80eX7UaQQAA1pMDTUfeMHv6hO7+HyuPVdVPJnn/lMEAABbZPOuE/dA+9v3wYc4BALCuHOg7YRckeX6S06vqqhWHjk/yl1MHA+Dgtm7dmqWlpWzevDnbtm0bHQc4BAf6Tth1Se5MclKSV6/Y/7kkH50yFADzWVpayq5du0bHAB6GA30n7FNJPpXkW1YvDgDA+nDQ74RV1VOq6vqquqeq7quqB6rqs6sRDgBgUc3zxfzXJrkgyf9NckySH03ymilDAQAsuoPewDtJuntHVW3o7geSvLGqrps4F8Ca9P6nPX10hIf4wsYNSVW+sHPnmsr29A9YxQgOZp4S9vmqOirJjVW1Lctf1j9u2lgAAMsW9SrgeaYjX5BkQ5JLktyb5NQk3ztlKACAPfZcBby0tDQ6ymF10JGw2VWSSfKFJC+fNg4AwPpwoMVab8o+bty9R3c/bpJEAMztxO6HPAJHjgONhD171VIA8LD84AMPjo4APEwHW6w1SVJVj07y5NnmH3X3XVMHAwBYZPMs1vr9Sf4oyfcl+f4kH66q500dDABgkc2zRMXLkjx5z+hXVW1K8ntJ3jFlMACARTbPEhWP2Gv68S/n/D0AAPZjnpGw91TVtUneNtv+10mumS4SAMDim2edsJ+pqucm+RdJKsnl3f3uyZMBACywg5awqnppkrd397tWIQ8AwLowz3e7TkhybVV9sKouni1XAQDAl+CgJay7X97d35jk4iSPSfL+qvq9yZMBACywQ7nK8a4kS1m+OvIfTxMHAGB9mGex1p+oqvcl+f0kJyX5MfeNBAD40syzRMXXJPmp7r5x6jAAAOvFPEtUXLoaQQAA1hMr3wMADDDPdCQAMLN169YsLS1l8+bN2bZt2+g4HMGUMAA4BEtLS9m1a9foGJP6zz/4vNERHuLTd/318uPSnWsq28ve+o4v6fdNRwIADKCEAQAMMGkJq6pzquqWqtpRVfu9yrKqnlxVD1TV2hljBACY0GQlrKo2JHldknOTnJnkgqo6cz/n/dck106VBQBgrZlyJOysJDu6+9buvi/JlUnO28d5L07yzizfFgkAYF2Y8urIk5PcvmJ7Z5JvXnlCVZ2c5HuSfFuSJ0+YBYAj1Gv/3dWjIzzEZ+6+9+8f11K2S1793aMjcIimHAmrfezrvbZ/McnPdvcDB3yhqgurantVbd+9e/dhCwgAMMqUI2E7k5y6YvuUJHfsdc6WJFdWVbJ8c/BnVdX93f0bK0/q7suTXJ4kW7Zs2bvIAQAccaYsYdcnOaOqTk+yK8n5SZ6/8oTuPn3P86p6U5Lf2ruAAQAsoslKWHffX1WXZPmqxw1Jrujum6vqotnxy6Z6bwCAtW7S2xZ19zVJrtlr3z7LV3f/8JRZAADWEveOBIBDcNxRJzzkER4uJQwADsHZX/fc0RFYEO4dCQAwgBIGADCAEgYAMIASBgAwgC/mAwBr2tEbHvGQx0WhhAEAa9o3feXxoyNMYrEqJQDAEUIJAwAYQAkDABhACQMAGEAJAwAYQAkDABhACQMAGEAJAwAYQAkDABhACQMAGEAJAwAYQAkDABhACQMAGEAJAwAYQAkDABhACQMAGEAJAwAYQAkDABhACQMAGEAJAwAYQAkDABhACQMAGEAJAwAYQAkDABhACQMAGEAJAwAYQAkDABhACQMAGEAJAwAYQAkDABhACQMAGEAJAwAYQAkDABhACQMAGEAJAwAYQAkDABhACQMAGEAJAwAYQAkDABhACQMAGEAJAwAYYNISVlXnVNUtVbWjqi7dx/EfqKqPzn6uq6rHT5kHAGCtmKyEVdWGJK9Lcm6SM5NcUFVn7nXaJ5I8vbsfl+QVSS6fKg8AwFoy5UjYWUl2dPet3X1fkiuTnLfyhO6+rrv/arb5oSSnTJgHAGDNmLKEnZzk9hXbO2f79udHkvz2vg5U1YVVtb2qtu/evfswRgQAGGPKElb72Nf7PLHqX2a5hP3svo539+XdvaW7t2zatOkwRgQAGGPjhK+9M8mpK7ZPSXLH3idV1eOSvCHJud39lxPmAQBYM6YcCbs+yRlVdXpVHZXk/CRXrTyhqr46ybuSvKC7/3zCLAAAa8pkI2HdfX9VXZLk2iQbklzR3TdX1UWz45cl+bkkX5nk9VWVJPd395apMgEArBVTTkemu69Jcs1e+y5b8fxHk/zolBkAANYiK+YDAAyghAEADKCEAQAMoIQBAAyghAEADKCEAQAMoIQBAAyghAEADKCEAQAMoIQBAAyghAEADKCEAQAMoIQBAAyghAEADKCEAQAMoIQBAAyghAEADKCEAQAMoIQBAAyghAEADKCEAQAMoIQBAAyghAEADKCEAQAMoIQBAAyghAEADKCEAQAMoIQBAAyghAEADKCEAQAMoIQBAAyghAEADKCEAQAMoIQBAAyghAEADKCEAQAMoIQBAAyghAEADKCEAQAMoIQBAAyghAEADKCEAQAMoIQBAAyghAEADKCEAQAMoIQBAAyghAEADKCEAQAMMGkJq6pzquqWqtpRVZfu43hV1S/Njn+0qp44ZR4AgLVishJWVRuSvC7JuUnOTHJBVZ2512nnJjlj9nNhkl+eKg8AwFoy5UjYWUl2dPet3X1fkiuTnLfXOecleUsv+1CSE6vqqybMBACwJkxZwk5OcvuK7Z2zfYd6DgDAwtk44WvXPvb1wzgnVXVhlqcrk+SeqrrlS8w2yklJ7h4dYqV61Q+NjjC1NfeZ5+f39dd+oay5z7xe4jNfdeUzX20v/m+jE0xuzX3m/+FX5/p7/jX7OzBlCduZ5NQV26ckueNhnJPuvjzJ5Yc74Gqrqu3dvWV0jvXEZ776fOarz2e++nzmq28RP/MppyOvT3JGVZ1eVUclOT/JVXudc1WSF86uknxKkr/u7jsnzAQAsCZMNhLW3fdX1SVJrk2yIckV3X1zVV00O35ZkmuSPCvJjiSfT/KiqfIAAKwlU05HpruvyXLRWrnvshXPO8nFU2ZYY474KdUjkM989fnMV5/PfPX5zFffwn3mtdyDAABYTW5bBAAwgBI2sao6uqr+qKr+pKpurqqXj860XlTVhqr646r6rdFZ1oOq+mRV3VRVN1bV9tF51oOqOrGq3lFVf1ZVH6+qbxmdaZFV1WNnf7/3/Hy2qn5qdK5FV1Uvnf3/82NV9baqOnp0psPFdOTEqqqSHNfd91TVI5P8nyQ/ObtDABOqqn+bZEuSE7r72aPzLLqq+mSSLd29ptbxWWRV9eYkH+zuN8yuQj+2uz8zOtd6MLs1364k39zdnxqdZ1FV1clZ/v/mmd39har69STXdPebxiY7PIyETWx2S6Z7ZpuPnP1ovhOrqlOSfFeSN4zOAlOoqhOSPC3JryRJd9+ngK2qZyb5fwrYqtiY5Jiq2pjk2OxjPdEjlRK2CmbTYjcmuSvJ73b3h0dnWgd+McnWJA+ODrKOdJLfqaobZne5YFpfm2R3kjfOpt3fUFXHjQ61jpyf5G2jQyy67t6V5FVJbktyZ5bXE/2dsakOHyVsFXT3A939hCzfEeCsqvpnozMtsqp6dpK7uvuG0VnWmbO7+4lJzk1ycVU9bXSgBbcxyROT/HJ3f1OSe5NcOjbS+jCb+n1OkrePzrLoqupRSc5LcnqSxyQ5rqp+cGyqw0cJW0WzqYL3JTlncJRFd3aS58y+o3Rlkm+rqreOjbT4uvuO2eNdSd6d5KyxiRbeziQ7V4ysvyPLpYzpnZvkI939F6ODrAP/Ksknunt3d/9dkncl+dbBmQ4bJWxiVbWpqk6cPT8my3+h/mxsqsXW3f++u0/p7tOyPGXw3u5emH85rUVVdVxVHb/neZLvSPKxsakWW3cvJbm9qh472/XMJH86MNJ6ckFMRa6W25I8paqOnV3o9swkHx+c6bCZdMV8kiRfleTNsytpHpHk17vbkgksmkcneffyfyOzMcmvdfd7xkZaF16c5Fdn02O3xq3fJldVxyb59iQ/PjrLetDdH66qdyT5SJL7k/xxFmjlfEtUAAAMYDoSAGAAJQwAYAAlDABgACUMAGAAJQwAYAAlDGCFqjqtqj42e76lqn5p9vwZVbUwi0QC41knDGA/unt7ku2zzWckuSfJdcMCAQvFSBiwMKrqZVV1S1X9XlW9rap+uqreV1VbZsdPmt3Oas+I1wer6iOzny8a5ZqNfv1WVZ2W5KIkL62qG6vqqVX1iap65Oy8E6rqk3u2AeZhJAxYCFX1pCzfpuqbsvzfto8kOdBN3O9K8u3d/TdVdUaWb0OzZV8ndvcnq+qyJPd096tm7/e+JN+V5Ddm7/vO2b3tAOZiJAxYFE9N8u7u/nx3fzbJVQc5/5FJ/mdV3ZTk7UnOPMT3e0P+4TZBL0ryxkP8fWCdMxIGLJJ93Yft/vzDPziPXrH/pUn+IsnjZ8f/5pDeqPsPZlOaT0+yobvdsBw4JEbCgEXxgSTfU1XHVNXxSb57tv+TSZ40e/68Fed/eZI7u/vBJC9IsuEgr/+5JMfvte8tWZ7GNAoGHDIlDFgI3f2RJP87yY1J3pnkg7NDr0ryE1V1XZKTVvzK65P8UFV9KMnXJ7n3IG9xdZZL3o1V9dTZvl9N8qgsFzGAQ1Ld+xq9BziyVdV/zIov0k/0Hs9Lcl53v2Cq9wAWl++EATwMVfWaJOcmedboLMCRyUgYAMAAvhMGADCAEgYAMIASBgAwgBIGADCAEgYAMIASBgAwwP8HegiACs4E5f0AAAAASUVORK5CYII=\n",
      "text/plain": [
       "<Figure size 720x432 with 1 Axes>"
      ]
     },
     "metadata": {
      "needs_background": "light"
     },
     "output_type": "display_data"
    }
   ],
   "source": [
    "fig = plt.figure(figsize = (10,6))\n",
    "sns.barplot(x = 'quality', y = 'volatile acidity', data = wine_data)"
   ]
  },
  {
   "cell_type": "markdown",
   "metadata": {},
   "source": [
    "### Composition of citric acid go higher as we go higher in the quality of the wine"
   ]
  },
  {
   "cell_type": "code",
   "execution_count": 8,
   "metadata": {
    "_cell_guid": "08f073d3-787b-4956-899b-6bd2bdf3cf91",
    "_uuid": "9600cd337636a7860a908fa36ad8084e230829ca"
   },
   "outputs": [
    {
     "data": {
      "text/plain": [
       "<matplotlib.axes._subplots.AxesSubplot at 0x23d5e5b7548>"
      ]
     },
     "execution_count": 8,
     "metadata": {},
     "output_type": "execute_result"
    },
    {
     "data": {
      "image/png": "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\n",
      "text/plain": [
       "<Figure size 720x432 with 1 Axes>"
      ]
     },
     "metadata": {
      "needs_background": "light"
     },
     "output_type": "display_data"
    }
   ],
   "source": [
    "fig = plt.figure(figsize = (10,6))\n",
    "sns.barplot(x = 'quality', y = 'citric acid', data = wine_data)"
   ]
  },
  {
   "cell_type": "markdown",
   "metadata": {},
   "source": [
    "### Here we see that residual sugar does not give any specification to classify the quality."
   ]
  },
  {
   "cell_type": "code",
   "execution_count": 9,
   "metadata": {
    "_cell_guid": "7dcb76bc-3436-46bd-9d7f-78ccd436517e",
    "_uuid": "6b017770cef61eefb34b4607218c77f933350389"
   },
   "outputs": [
    {
     "data": {
      "text/plain": [
       "<matplotlib.axes._subplots.AxesSubplot at 0x23d5e1e0148>"
      ]
     },
     "execution_count": 9,
     "metadata": {},
     "output_type": "execute_result"
    },
    {
     "data": {
      "image/png": "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\n",
      "text/plain": [
       "<Figure size 720x432 with 1 Axes>"
      ]
     },
     "metadata": {
      "needs_background": "light"
     },
     "output_type": "display_data"
    }
   ],
   "source": [
    "fig = plt.figure(figsize = (10,6))\n",
    "sns.barplot(x = 'quality', y = 'residual sugar', data = wine_data)"
   ]
  },
  {
   "cell_type": "markdown",
   "metadata": {},
   "source": [
    "### Composition of chloride also go down as we go higher in the quality of the wine"
   ]
  },
  {
   "cell_type": "code",
   "execution_count": 10,
   "metadata": {
    "_cell_guid": "76463630-67d9-4b07-8076-fba8b49a9921",
    "_uuid": "31fe5d393946e406cbe62d3f4c7951e0b493c454"
   },
   "outputs": [
    {
     "data": {
      "text/plain": [
       "<matplotlib.axes._subplots.AxesSubplot at 0x23d5e191508>"
      ]
     },
     "execution_count": 10,
     "metadata": {},
     "output_type": "execute_result"
    },
    {
     "data": {
      "image/png": "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\n",
      "text/plain": [
       "<Figure size 720x432 with 1 Axes>"
      ]
     },
     "metadata": {
      "needs_background": "light"
     },
     "output_type": "display_data"
    }
   ],
   "source": [
    "fig = plt.figure(figsize = (10,6))\n",
    "sns.barplot(x = 'quality', y = 'chlorides', data = wine_data)"
   ]
  },
  {
   "cell_type": "markdown",
   "metadata": {},
   "source": [
    "### No relation between quality and free sulfur dioxide"
   ]
  },
  {
   "cell_type": "code",
   "execution_count": 11,
   "metadata": {
    "_cell_guid": "6abcf7a2-cc7a-4673-a905-6ee0c2cc9e15",
    "_uuid": "6ba9a0dafe8e1042da4dbcaa93706dd46cf3a85c"
   },
   "outputs": [
    {
     "data": {
      "text/plain": [
       "<matplotlib.axes._subplots.AxesSubplot at 0x23d5e6f9fc8>"
      ]
     },
     "execution_count": 11,
     "metadata": {},
     "output_type": "execute_result"
    },
    {
     "data": {
      "image/png": "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\n",
      "text/plain": [
       "<Figure size 720x432 with 1 Axes>"
      ]
     },
     "metadata": {
      "needs_background": "light"
     },
     "output_type": "display_data"
    }
   ],
   "source": [
    "fig = plt.figure(figsize = (10,6))\n",
    "sns.barplot(x = 'quality', y = 'free sulfur dioxide', data = wine_data)"
   ]
  },
  {
   "cell_type": "markdown",
   "metadata": {},
   "source": [
    "### No relation between quality and total sulfur dioxide"
   ]
  },
  {
   "cell_type": "code",
   "execution_count": 12,
   "metadata": {
    "_cell_guid": "9acea621-2b7b-44b7-a0fa-b984dd8c0e93",
    "_uuid": "d99c6e4033da73cdc9d9977ac045372ff9af1c53"
   },
   "outputs": [
    {
     "data": {
      "text/plain": [
       "<matplotlib.axes._subplots.AxesSubplot at 0x23d5e7cb0c8>"
      ]
     },
     "execution_count": 12,
     "metadata": {},
     "output_type": "execute_result"
    },
    {
     "data": {
      "image/png": "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\n",
      "text/plain": [
       "<Figure size 720x432 with 1 Axes>"
      ]
     },
     "metadata": {
      "needs_background": "light"
     },
     "output_type": "display_data"
    }
   ],
   "source": [
    "fig = plt.figure(figsize = (10,6))\n",
    "sns.barplot(x = 'quality', y = 'total sulfur dioxide', data = wine_data)"
   ]
  },
  {
   "cell_type": "markdown",
   "metadata": {},
   "source": [
    "### Sulphates level goes higher with the quality of wine"
   ]
  },
  {
   "cell_type": "code",
   "execution_count": 13,
   "metadata": {
    "_cell_guid": "bf0b1aa4-8a6c-4f95-80c3-7554b38a9c96",
    "_uuid": "ae9a7496f5c238ec9bb95729b17960c6e48efe35"
   },
   "outputs": [
    {
     "data": {
      "text/plain": [
       "<matplotlib.axes._subplots.AxesSubplot at 0x23d5e878d08>"
      ]
     },
     "execution_count": 13,
     "metadata": {},
     "output_type": "execute_result"
    },
    {
     "data": {
      "image/png": "iVBORw0KGgoAAAANSUhEUgAAAmEAAAFzCAYAAAB2A95GAAAABHNCSVQICAgIfAhkiAAAAAlwSFlzAAALEgAACxIB0t1+/AAAADh0RVh0U29mdHdhcmUAbWF0cGxvdGxpYiB2ZXJzaW9uMy4yLjIsIGh0dHA6Ly9tYXRwbG90bGliLm9yZy+WH4yJAAAanklEQVR4nO3dfbRddX3n8feHG1KEAdFyp6kEJbVRJ9MRH26jliqogw0+NNoyLXTUDtMupBWfZhTpasd2xpk/jLbTFtE0pYiOjoxV1GijOOOMD9WxzQ3Fh6DpSiOSG4hcZBB5UAj5zh/nUA+XGziJ2fd37rnv11p3nbP3/t1zP+ssFnzYv71/O1WFJEmSFtYRrQNIkiQtRZYwSZKkBixhkiRJDVjCJEmSGrCESZIkNWAJkyRJamBZ6wAH64QTTqiTTz65dQxJkqSHtG3btpuranK+Y4uuhJ188slMT0+3jiFJkvSQknzrQMecjpQkSWrAEiZJktSAJUySJKkBS5gkSVIDljBJkqQGLGGSJEkNWMIkSZIasIRJkiQ1YAmTJElqwBImSZLUgCVMkiSpAUuYJElSA4vuAd6SJGlpufDCC9m7dy8rVqxgw4YNreMcNpYwSZI00vbu3cuePXtaxzjsnI6UJElqwBImSZLUgCVMkiSpAUuYJElSA52WsCTrkuxIsjPJRfMcf3iSjyX5cpLtSc7tMo8kSdKo6KyEJZkALgHOBNYA5yRZM2fYK4Frq+oU4HTgD5Ms7yqTJEnSqOjyTNhaYGdV7aqqu4ErgPVzxhRwbJIA/wS4BdjXYSZJkqSR0GUJOxHYPbA909836O3APwNuAL4KvKaq9neYSZIkaSR0WcIyz76as/0LwDXAo4AnAW9PctwDPig5L8l0kunZ2dnDn1SSJGmBdVnCZoCTBrZX0jvjNehc4Mrq2Ql8E3jC3A+qqk1VNVVVU5OTk50FliRJWihdlrCtwOokq/oX258NbJ4z5nrguQBJfgJ4PLCrw0ySJEkjobNnR1bVviQXAFcBE8BlVbU9yfn94xuBNwOXJ/kqvenLN1bVzV1lkiRJGhWdPsC7qrYAW+bs2zjw/gbgeV1mkCRJGkWumC9JktSAJUySJKkBS5gkSVIDljBJkqQGLGGSJEkNWMIkSZIasIRJkiQ10Ok6YZIkafH5Ly89q3WE+7nlpu/2XvfeOFLZfve9H/yRft8zYZIkSQ14JkySpINw4YUXsnfvXlasWMGGDRtax9EiZgmTJOkg7N27lz179rSOoTHgdKQkSVIDljBJkqQGLGGSJEkNWMIkSZIasIRJkiQ1YAmTJElqwCUqJEkj7e3//mOtI9zPrTff8Y+vo5Ttgj98UesIOkieCZMkSWrAEiZJktSAJUySJKkBS5gkSVIDljBJkqQGLGGSJEkNWMIkSZIasIRJkiQ14GKtkiQdhGOWH3e/V3XvqIkj7vc6LixhkiQdhFMf+0utIyw5T/7xY1tH6MR4VUpJkqRFotMSlmRdkh1Jdia5aJ7jb0hyTf/na0nuTfLILjNJkiSNgs5KWJIJ4BLgTGANcE6SNYNjquqtVfWkqnoS8DvAZ6vqlq4ySZIkjYouz4StBXZW1a6quhu4Alj/IOPPAd7fYR5JkqSR0WUJOxHYPbA909/3AEmOBtYBH+owjyRJ0sjosoRlnn11gLEvAr5woKnIJOclmU4yPTs7e9gCSpIktdJlCZsBThrYXgnccICxZ/MgU5FVtamqpqpqanJy8jBGlCRJaqPLErYVWJ1kVZLl9IrW5rmDkjwcOA34aIdZJEmSRkpni7VW1b4kFwBXARPAZVW1Pcn5/eMb+0NfAnyqqu7oKoskjasLL7yQvXv3smLFCjZs2NA6jqSD0OmK+VW1BdgyZ9/GOduXA5d3mUOSxtXevXvZs2dP6xiSDoEr5kuSJDVgCZMkSWrAEiZJktSAJUySJKmBTi/Ml1ryrjF14bPPOq11hPu5a9kEJNw1MzNS2U773GdbR5BGniVMY8u7xiRJo8zpSEmSpAYsYZIkSQ1YwiRJkhrwmjBJWsSOr7rfq6TFwxImSYvYS+/d3zqCpEPkdKQkSVIDljBJkqQGnI5cIC4cKkmSBlnCFogLh0qSpEFOR0qSJDVgCZMkSWrAEiZJktSAJUySJKkBL8yXdNh4F7AkDc8SJumw8S5gSRqe05GSJEkNWMIkSZIasIRJkiQ14DVh0iJ26sWnto5wP8tvXc4RHMHuW3ePVLYvvOoLrSNI0gN4JkySJKkBS5gkSVIDljBJkqQGLGGSJEkNdFrCkqxLsiPJziQXHWDM6UmuSbI9yWe7zCNJkjQqOrs7MskEcAlwBjADbE2yuaquHRhzPPAOYF1VXZ/kn3aVR1L36uhiP/upo6t1FEkaeV0uUbEW2FlVuwCSXAGsB64dGPNrwJVVdT1AVd3UYR5JHbvn1HtaR5CkRaPL6cgTgd0D2zP9fYMeBzwiyWeSbEvy8vk+KMl5SaaTTM/OznYUV5IkaeF0WcIyz765cxTLgKcCLwB+AfgPSR73gF+q2lRVU1U1NTk5efiTSpIkLbAupyNngJMGtlcCN8wz5uaqugO4I8nngFOAv+8wlzpy/X/6F60j3M++Wx4JLGPfLd8aqWyPftNXW0eQJI2ALs+EbQVWJ1mVZDlwNrB5zpiPAs9MsizJ0cDTgK93mEmSJGkkdHYmrKr2JbkAuAqYAC6rqu1Jzu8f31hVX0/ySeArwH7g0qr6WleZJEmSRkWnD/Cuqi3Aljn7Ns7Zfivw1i5zSJIkjRpXzJckSWrAEiZJktSAJUySJKkBS5gkSVIDljBJkqQGLGGSJEkNdLpERUtPfcN7Wke4n2Nv/h4TwPU3f2+ksm1767yP65QkSR3zTJgkSVIDljBJkqQGLGGSJEkNWMIkSZIasIRJkiQ1YAmTJElqwBImSZLUgCVMkiSpAUuYJElSA5YwSZKkBixhkiRJDYztsyOlE47aD+zrv0qSNFosYRpbr3/ira0jSJJ0QE5HSpIkNWAJkyRJasASJkmS1IAlTJIkqQFLmCRJUgOWMEmSpAYsYZIkSQ1YwiRJkhqwhEmSJDXQaQlLsi7JjiQ7k1w0z/HTk3w3yTX9nzd1mUeSJGlUdPbYoiQTwCXAGcAMsDXJ5qq6ds7Qz1fVC7vKMSr2Lz/mfq+SJGlp6/LZkWuBnVW1CyDJFcB6YG4JWxLuWP281hEkSdII6XI68kRg98D2TH/fXM9I8uUkn0jyz+f7oCTnJZlOMj07O9tFVkmSpAXVZQnLPPtqzvbVwGOq6hTgYuAj831QVW2qqqmqmpqcnDzMMSVJkhZelyVsBjhpYHslcMPggKq6rapu77/fAhyZ5IQOM0mSJI2ELkvYVmB1klVJlgNnA5sHByRZkST992v7eb7TYSZJkqSR0NmF+VW1L8kFwFXABHBZVW1Pcn7/+EbgLOC3kuwD7gLOrqq5U5aSJEljZ6gSlmQD8J/pFaVPAqcAr62q9z7Y7/WnGLfM2bdx4P3bgbcfZGZJkqRFb9jpyOdV1W3AC+ld6/U44A2dpZIkSRpzw5awI/uvzwfeX1W3dJRHkiRpSRj2mrCPJfkGvenI304yCXy/u1iSJEnjbagzYVV1EfAMYKqq7gHupLf6vSRJkg7BUCUsydHAK4F39nc9CpjqKpQkSdK4G/aasHcBdwM/19+eoXe3pCRJkg7BsCXssVW1AbgHoKruYv7HEkmSJGkIw5awu5M8jP6zH5M8FvhBZ6kkSZLG3LB3R/4BvUVaT0ryPuBU4NyuQkmSJI27oUpYVX0qyTbg6fSmIV9TVTd3mkySJGmMDXt35Ker6jtV9VdV9fGqujnJp7sOJ0mSNK4e9ExYkqOAo4ETkjyCH16Mfxy9ZSokSZJ0CB5qOvIVwGvpFa5t/LCE3QZc0mEuSZKksfagJayq/gT4kySvqqqLFyiTJEnS2Bv2wvyLk/wMsAY4amD/e7oKJkmSNM6GKmFJfh84nV4J2wKcCfw1YAmTJEk6BMMu1noW8Fxgb1WdC5wC/FhnqSRJksbcsCXsrqraD+xLchxwE/BT3cWSJEkab8OumD+d5Hjgz+ndJXk78LedpZIkSRpzw16Y/9v9txuTfBI4rqq+0l0sSZKk8TbsmTCSnAg85r7fSfKsqvpcV8EkSZLG2bB3R74F+FXgWuDe/u4CLGGSJEmHYNgzYS8GHl9VP+gyjCRJ0lIx7N2Ru4AjuwwiSZK0lDzUA7wvpjfteCdwTZJPA/94NqyqXt1tPEmSpPH0UNOR0/3XbcDmjrNIkiQtGQ/1AO933/c+yXLgCfTOjO2oqrs7ziZJkjS2hr078vnAnwH/AARYleQVVfWJLsNJkiSNq2EvzP8j4NlVdXpVnQY8G/ivD/VLSdYl2ZFkZ5KLHmTczya5N8lZQ+aRJEla1IYtYTdV1c6B7V30nh95QEkmgEuAM4E1wDlJ1hxg3FuAq4bMIkmStOgNu07Y9iRbgA/QuybsXwFbk/wSQFVdOc/vrAV2VtUugCRXAOvpLfg66FXAh4CfPfj4kiRJi9OwJewo4NvAaf3tWeCRwIvolbL5StiJwO6B7RngaYMD+o9CegnwHCxhkiRpCRn2Ad7nHsJnZ76PmrP9x8Abq+reZL7h/Q9KzgPOA3j0ox99CFEkSZJGy7CLtc7rIRZrnQFOGtheCdwwZ8wUcEW/gJ0APD/Jvqr6yJy/swnYBDA1NXXAPJIkSYvFsIu1HoqtwOokq4A9wNnArw0OqKpV971Pcjnw8bkFTJIkaRwNvVjrwaqqfUkuoHfX4wRwWVVtT3J+//jGQ/1sSZKkxW7YxVr/D/NMS1bVcx7s96pqC7Blzr55y1dV/ZthskiSJI2DYe+OfP3A+6OAXwb2Hf44kiRJS8Owd0dum7PrC0k+20EeSZKkJWHY6chHDmweQe+uxhWdJJIkSVoChp2O3EbvmrAA9wDXAb/RUSZJkqSxN+yzI98IPKm/pMR/A+4A7uwslSRJ0pgbtoT9XlXdluTngTOAy4F3dpZKkiRpzA1bwu7tv74A2FhVHwWWdxNJkiRp/A1bwvYk+TPgV4AtSX7sIH5XkiRJcwxbpH6F3sr366rqVuCRwBs6SyVJkjTmhl0n7E7gyoHtG4EbuwolSZI07pxSlCRJasASJkmS1IAlTJIkqQFLmCRJUgOWMEmSpAYsYZIkSQ1YwiRJkhqwhEmSJDVgCZMkSWrAEiZJktSAJUySJKkBS5gkSVIDljBJkqQGLGGSJEkNWMIkSZIasIRJkiQ1YAmTJElqwBImSZLUgCVMkiSpgU5LWJJ1SXYk2ZnkonmOr0/ylSTXJJlO8vNd5pEkSRoVy7r64CQTwCXAGcAMsDXJ5qq6dmDYp4HNVVVJngh8AHhCV5kkSZJGRZdnwtYCO6tqV1XdDVwBrB8cUFW3V1X1N48BCkmSpCWgyxJ2IrB7YHumv+9+krwkyTeAvwL+bYd5JEmSRkaXJSzz7HvAma6q+nBVPQF4MfDmeT8oOa9/zdj07OzsYY4pSZK08LosYTPASQPbK4EbDjS4qj4HPDbJCfMc21RVU1U1NTk5efiTSpIkLbAuS9hWYHWSVUmWA2cDmwcHJPnpJOm/fwqwHPhOh5kkSZJGQmd3R1bVviQXAFcBE8BlVbU9yfn94xuBXwZenuQe4C7gVwcu1JckSRpbnZUwgKraAmyZs2/jwPu3AG/pMoMkSdIocsV8SZKkBixhkiRJDVjCJEmSGrCESZIkNWAJkyRJasASJkmS1IAlTJIkqQFLmCRJUgOWMEmSpAYsYZIkSQ1YwiRJkhqwhEmSJDVgCZMkSWrAEiZJktSAJUySJKkBS5gkSVIDljBJkqQGLGGSJEkNWMIkSZIasIRJkiQ1YAmTJElqwBImSZLUgCVMkiSpAUuYJElSA5YwSZKkBixhkiRJDVjCJEmSGrCESZIkNWAJkyRJaqDTEpZkXZIdSXYmuWie4/86yVf6P19MckqXeSRJkkZFZyUsyQRwCXAmsAY4J8maOcO+CZxWVU8E3gxs6iqPJEnSKOnyTNhaYGdV7aqqu4ErgPWDA6rqi1X1//qbXwJWdphHkiRpZHRZwk4Edg9sz/T3HchvAJ+Y70CS85JMJ5menZ09jBElSZLa6LKEZZ59Ne/A5Nn0Stgb5zteVZuqaqqqpiYnJw9jREmSpDaWdfjZM8BJA9srgRvmDkryROBS4Myq+k6HeSRJkkZGl2fCtgKrk6xKshw4G9g8OCDJo4ErgZdV1d93mEWSJGmkdHYmrKr2JbkAuAqYAC6rqu1Jzu8f3wi8Cfhx4B1JAPZV1VRXmSRJkkZFl9ORVNUWYMucfRsH3v8m8JtdZpAkSRpFrpgvSZLUgCVMkiSpAUuYJElSA5YwSZKkBixhkiRJDVjCJEmSGrCESZIkNWAJkyRJasASJkmS1IAlTJIkqQFLmCRJUgOWMEmSpAYsYZIkSQ1YwiRJkhqwhEmSJDVgCZMkSWrAEiZJktSAJUySJKkBS5gkSVIDljBJkqQGLGGSJEkNWMIkSZIasIRJkiQ1YAmTJElqwBImSZLUgCVMkiSpAUuYJElSA5YwSZKkBixhkiRJDXRawpKsS7Ijyc4kF81z/AlJ/m+SHyR5fZdZJEmSRsmyrj44yQRwCXAGMANsTbK5qq4dGHYL8GrgxV3lkCRJGkVdnglbC+ysql1VdTdwBbB+cEBV3VRVW4F7OswhSZI0crosYScCuwe2Z/r7DlqS85JMJ5menZ09LOEkSZJa6rKEZZ59dSgfVFWbqmqqqqYmJyd/xFiSJEntdVnCZoCTBrZXAjd0+PckSZIWjS5L2FZgdZJVSZYDZwObO/x7kiRJi0Znd0dW1b4kFwBXARPAZVW1Pcn5/eMbk6wApoHjgP1JXgusqarbusolSZI0CjorYQBVtQXYMmffxoH3e+lNU0qSJC0prpgvSZLUgCVMkiSpAUuYJElSA5YwSZKkBixhkiRJDVjCJEmSGrCESZIkNWAJkyRJasASJkmS1IAlTJIkqQFLmCRJUgOWMEmSpAYsYZIkSQ1YwiRJkhqwhEmSJDVgCZMkSWrAEiZJktSAJUySJKkBS5gkSVIDljBJkqQGLGGSJEkNWMIkSZIasIRJkiQ1YAmTJElqwBImSZLUgCVMkiSpAUuYJElSA5YwSZKkBjotYUnWJdmRZGeSi+Y5niR/2j/+lSRP6TKPJEnSqOishCWZAC4BzgTWAOckWTNn2JnA6v7PecA7u8ojSZI0Sro8E7YW2FlVu6rqbuAKYP2cMeuB91TPl4Djk/xkh5kkSZJGQpcl7ERg98D2TH/fwY6RJEkaO8s6/OzMs68OYQxJzqM3XQlwe5IdP2K2Vk4Abm4dYlDe9uutI3Rt5L5zfn++f+zHysh953m13/mCi9/5QnvVH7VO0LmR+85/731D/XP+mAMd6LKEzQAnDWyvBG44hDFU1SZg0+EOuNCSTFfVVOscS4nf+cLzO194fucLz+984Y3jd97ldORWYHWSVUmWA2cDm+eM2Qy8vH+X5NOB71bVjR1mkiRJGgmdnQmrqn1JLgCuAiaAy6pqe5Lz+8c3AluA5wM7gTuBc7vKI0mSNEq6nI6kqrbQK1qD+zYOvC/glV1mGDGLfkp1EfI7X3h+5wvP73zh+Z0vvLH7ztPrQZIkSVpIPrZIkiSpAUtYx5IcleRvk3w5yfYk/7F1pqUiyUSSv0vy8dZZloIk1yX5apJrkky3zrMUJDk+yQeTfCPJ15M8o3WmcZbk8f1/vu/7uS3Ja1vnGndJXtf/7+fXkrw/yVGtMx0uTkd2LEmAY6rq9iRHAn8NvKb/hAB1KMm/A6aA46rqha3zjLsk1wFTVTVS6/iMsyTvBj5fVZf270I/uqpubZ1rKeg/mm8P8LSq+lbrPOMqyYn0/ru5pqruSvIBYEtVXd422eHhmbCO9R/JdHt/88j+j823Y0lWAi8ALm2dRepCkuOAZwF/AVBVd1vAFtRzgX+wgC2IZcDDkiwDjmae9UQXK0vYAuhPi10D3AT8z6r6m9aZloA/Bi4E9rcOsoQU8Kkk2/pPuVC3fgqYBd7Vn3a/NMkxrUMtIWcD728dYtxV1R7gbcD1wI301hP9VNtUh48lbAFU1b1V9SR6TwRYm+RnWmcaZ0leCNxUVdtaZ1liTq2qpwBnAq9M8qzWgcbcMuApwDur6snAHcBFbSMtDf2p318E/rJ1lnGX5BHAemAV8CjgmCQvbZvq8LGELaD+VMFngHWNo4y7U4Ff7F+jdAXwnCTvbRtp/FXVDf3Xm4APA2vbJhp7M8DMwJn1D9IrZeremcDVVfXt1kGWgH8JfLOqZqvqHuBK4OcaZzpsLGEdSzKZ5Pj++4fR+wfqG21Tjbeq+p2qWllVJ9ObMvjfVTU2/+c0ipIck+TY+94DzwO+1jbVeKuqvcDuJI/v73oucG3DSEvJOTgVuVCuB56e5Oj+jW7PBb7eONNh0+mK+QLgJ4F39++kOQL4QFW5ZILGzU8AH+79O5JlwH+vqk+2jbQkvAp4X396bBc++q1zSY4GzgBe0TrLUlBVf5Pkg8DVwD7g7xijlfNdokKSJKkBpyMlSZIasIRJkiQ1YAmTJElqwBImSZLUgCVMkiSpAUuYJA1IcnKSr/XfTyX50/7705OMzSKRktpznTBJOoCqmgam+5unA7cDX2wWSNJY8UyYpLGR5HeT7Ejyv5K8P8nrk3wmyVT/+An9x1ndd8br80mu7v884CxX/+zXx5OcDJwPvC7JNUmemeSbSY7sjzsuyXX3bUvSMDwTJmksJHkqvcdUPZnev9uuBh7sIe43AWdU1feTrKb3GJqp+QZW1XVJNgK3V9Xb+n/vM8ALgI/0/+6H+s+2k6SheCZM0rh4JvDhqrqzqm4DNj/E+COBP0/yVeAvgTUH+fcu5YePCToXeNdB/r6kJc4zYZLGyXzPYdvHD/+H86iB/a8Dvg2c0j/+/YP6Q1Vf6E9pngZMVJUPLJd0UDwTJmlcfA54SZKHJTkWeFF//3XAU/vvzxoY/3DgxqraD7wMmHiIz/8ecOycfe+hN43pWTBJB80SJmksVNXVwP8ArgE+BHy+f+htwG8l+SJwwsCvvAP49SRfAh4H3PEQf+Jj9EreNUme2d/3PuAR9IqYJB2UVM139l6SFrckf8DAhfQd/Y2zgPVV9bKu/oak8eU1YZJ0CJJcDJwJPL91FkmLk2fCJEmSGvCaMEmSpAYsYZIkSQ1YwiRJkhqwhEmSJDVgCZMkSWrAEiZJktTA/wd/w3ASew5O/QAAAABJRU5ErkJggg==\n",
      "text/plain": [
       "<Figure size 720x432 with 1 Axes>"
      ]
     },
     "metadata": {
      "needs_background": "light"
     },
     "output_type": "display_data"
    }
   ],
   "source": [
    "fig = plt.figure(figsize = (10,6))\n",
    "sns.barplot(x = 'quality', y = 'sulphates', data = wine_data)"
   ]
  },
  {
   "cell_type": "markdown",
   "metadata": {},
   "source": [
    "### Alcohol level also goes higher as te quality of wine increases"
   ]
  },
  {
   "cell_type": "code",
   "execution_count": 14,
   "metadata": {
    "_cell_guid": "04f51b1d-6315-44d3-986c-ed82fc996ad3",
    "_uuid": "81efa0b7799cd731aff98cffeaa28c361a7375a5"
   },
   "outputs": [
    {
     "data": {
      "text/plain": [
       "<matplotlib.axes._subplots.AxesSubplot at 0x23d5e913208>"
      ]
     },
     "execution_count": 14,
     "metadata": {},
     "output_type": "execute_result"
    },
    {
     "data": {
      "image/png": "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\n",
      "text/plain": [
       "<Figure size 720x432 with 1 Axes>"
      ]
     },
     "metadata": {
      "needs_background": "light"
     },
     "output_type": "display_data"
    }
   ],
   "source": [
    "fig = plt.figure(figsize = (10,6))\n",
    "sns.barplot(x = 'quality', y = 'alcohol', data = wine_data)"
   ]
  },
  {
   "cell_type": "markdown",
   "metadata": {
    "_cell_guid": "9838ca3d-4b89-4503-9d7e-247cc3a9730b",
    "_uuid": "974be3136a2f13bf26a88b26cbddbf73f5cafda9"
   },
   "source": [
    "## Preprocessing Data for performing Machine learning algorithms"
   ]
  },
  {
   "cell_type": "code",
   "execution_count": 15,
   "metadata": {
    "_cell_guid": "33e1c5c0-a65a-4918-8d94-db8e4c521d50",
    "_uuid": "3f082340d1b157391052f0fa20a44aa0105ce987"
   },
   "outputs": [],
   "source": [
    "#Making binary classificaion for the response variable.\n",
    "#Dividing wine as good and bad by giving the limit for the quality\n",
    "bins = (2, 6.5, 8)\n",
    "group_names = ['bad', 'good']\n",
    "wine_data['quality'] = pd.cut(wine_data['quality'], bins = bins, labels = group_names)"
   ]
  },
  {
   "cell_type": "code",
   "execution_count": 16,
   "metadata": {
    "_cell_guid": "21a15507-cc97-4c40-835b-51fd79f7cdd9",
    "_uuid": "87127b3c5e9493a9364b3c63401ddb11a51373a1"
   },
   "outputs": [],
   "source": [
    "#Now lets assign a labels to our quality variable\n",
    "label_quality = LabelEncoder()"
   ]
  },
  {
   "cell_type": "code",
   "execution_count": 17,
   "metadata": {
    "_cell_guid": "f4c3a886-4b1f-4533-a660-b7ffb66376c2",
    "_uuid": "a592e2b8ece55e8d5928241eb5b9188226a725bf"
   },
   "outputs": [],
   "source": [
    "#Bad becomes 0 and good becomes 1 \n",
    "wine_data['quality'] = label_quality.fit_transform(wine_data['quality'])"
   ]
  },
  {
   "cell_type": "code",
   "execution_count": 18,
   "metadata": {
    "_cell_guid": "faa36f65-7e80-44d7-a4f8-10e482cec684",
    "_uuid": "65a97517331f835cade698b594a7376ea7778eeb"
   },
   "outputs": [
    {
     "data": {
      "text/plain": [
       "0    1382\n",
       "1     217\n",
       "Name: quality, dtype: int64"
      ]
     },
     "execution_count": 18,
     "metadata": {},
     "output_type": "execute_result"
    }
   ],
   "source": [
    "wine_data['quality'].value_counts()"
   ]
  },
  {
   "cell_type": "code",
   "execution_count": 19,
   "metadata": {
    "_cell_guid": "2fe7339e-837e-48c0-b988-a36c89632844",
    "_uuid": "d2a4c7e14dc6b8faa31efd1fcbe4f61b80a7d3e1"
   },
   "outputs": [
    {
     "name": "stderr",
     "output_type": "stream",
     "text": [
      "C:\\Users\\Ashutosh\\Anaconda3\\envs\\tf\\lib\\site-packages\\seaborn\\_decorators.py:43: FutureWarning: Pass the following variable as a keyword arg: x. From version 0.12, the only valid positional argument will be `data`, and passing other arguments without an explicit keyword will result in an error or misinterpretation.\n",
      "  FutureWarning\n"
     ]
    },
    {
     "data": {
      "text/plain": [
       "<matplotlib.axes._subplots.AxesSubplot at 0x23d5e9aedc8>"
      ]
     },
     "execution_count": 19,
     "metadata": {},
     "output_type": "execute_result"
    },
    {
     "data": {
      "image/png": "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\n",
      "text/plain": [
       "<Figure size 432x288 with 1 Axes>"
      ]
     },
     "metadata": {
      "needs_background": "light"
     },
     "output_type": "display_data"
    }
   ],
   "source": [
    "sns.countplot(wine_data['quality'])"
   ]
  },
  {
   "cell_type": "code",
   "execution_count": 20,
   "metadata": {
    "_cell_guid": "ba89712a-ad66-4a92-9214-4e35c3802d59",
    "_uuid": "b893deb26bb309c914de12aadf9ad8437deb8358"
   },
   "outputs": [],
   "source": [
    "#Now seperate the dataset as response variable and feature variabes\n",
    "X = wine_data.drop('quality', axis = 1)\n",
    "y = wine_data['quality']"
   ]
  },
  {
   "cell_type": "code",
   "execution_count": 21,
   "metadata": {
    "_cell_guid": "d7703d9a-3397-4c42-9b38-6f341cac1cde",
    "_uuid": "bdfc0f6ba146f947f265fd493e8327366fdb5c9a"
   },
   "outputs": [],
   "source": [
    "#Train and Test splitting of data \n",
    "X_train, X_test, y_train, y_test = train_test_split(X, y, test_size = 0.2, random_state = 42)"
   ]
  },
  {
   "cell_type": "markdown",
   "metadata": {
    "_cell_guid": "645e952e-09b5-48df-9d08-aa6454ef333a",
    "_uuid": "3fd28a9b12fd0f5a00bc0add378ca1f9632bc319"
   },
   "source": [
    "## Our training and testing data is ready now to perform machine learning algorithm"
   ]
  },
  {
   "cell_type": "markdown",
   "metadata": {
    "_cell_guid": "0a12868b-8780-43b9-ae70-4c849407aac6",
    "_uuid": "093572f70cda59063611c1c888974e6a863ec7ef"
   },
   "source": [
    "### We  use Pipeline for Standard scaling and for following algorithms\n",
    "#### 1. Random Forest Classifier\n",
    "#### 2. Stochastic Gradient Descent Classifier\n",
    "#### 3. Support Vector Machines \n"
   ]
  },
  {
   "cell_type": "code",
   "execution_count": 22,
   "metadata": {},
   "outputs": [
    {
     "name": "stdout",
     "output_type": "stream",
     "text": [
      "RandomForestClassifier Test Accuracy: 0.90625\n",
      "SGDClassifier Test Accuracy: 0.83125\n",
      "Support Vector Machines Test Accuracy: 0.875\n"
     ]
    }
   ],
   "source": [
    "from sklearn.pipeline import Pipeline\n",
    "pipeline_rf = Pipeline([('scaler1', StandardScaler()),\n",
    "                       ('rf_class', RandomForestClassifier(n_estimators=200))])\n",
    "pipeline_sgd = Pipeline([('scaler2', StandardScaler()),\n",
    "                       ('rf_class', SGDClassifier(penalty=None))])\n",
    "pipeline_svc = Pipeline([('scaler3', StandardScaler()),\n",
    "                       ('rf_class', SVC())])\n",
    "\n",
    "pipelines = [pipeline_rf, pipeline_sgd, pipeline_svc]\n",
    "\n",
    "pipe_dict = {0: \"RandomForestClassifier\", 1: \"SGDClassifier\", 2:\"Support Vector Machines\"}\n",
    "\n",
    "best_acc = 0\n",
    "best_class = 0\n",
    "best_pipe = \"\"\n",
    "\n",
    "for pipe in pipelines:\n",
    "    pipe.fit(X_train, y_train)\n",
    "\n",
    "for i, model in enumerate(pipelines):\n",
    "    print(\"{} Test Accuracy: {}\".format(pipe_dict[i], model.score(X_test, y_test)))"
   ]
  },
  {
   "cell_type": "markdown",
   "metadata": {},
   "source": [
    "### Showing high accuracy model name"
   ]
  },
  {
   "cell_type": "code",
   "execution_count": 23,
   "metadata": {},
   "outputs": [
    {
     "name": "stdout",
     "output_type": "stream",
     "text": [
      "RandomForestClassifier\n"
     ]
    }
   ],
   "source": [
    "for i, model in enumerate(pipelines):\n",
    "    if model.score(X_test, y_test) > best_acc:\n",
    "        best_acc = model.score(X_test, y_test)\n",
    "        best_pipe = model\n",
    "        best_class = i\n",
    "print(pipe_dict[best_class])"
   ]
  }
 ],
 "metadata": {
  "kernelspec": {
   "display_name": "Python 3",
   "language": "python",
   "name": "python3"
  },
  "language_info": {
   "codemirror_mode": {
    "name": "ipython",
    "version": 3
   },
   "file_extension": ".py",
   "mimetype": "text/x-python",
   "name": "python",
   "nbconvert_exporter": "python",
   "pygments_lexer": "ipython3",
   "version": "3.7.7"
  }
 },
 "nbformat": 4,
 "nbformat_minor": 1
}
